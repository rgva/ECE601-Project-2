{
 "cells": [
  {
   "cell_type": "code",
   "execution_count": 1,
   "metadata": {},
   "outputs": [
    {
     "name": "stdout",
     "output_type": "stream",
     "text": [
      "https://api.twitter.com/oauth/authorize?oauth_token=C2CUGAAAAAABh_cbAAABg8IYgog\n",
      "1578938889980592128-IDytxONaDyRGcd3A7aablBpA3ZRM6r ycvwdMEIfE6P8plFdPpk934VNasb5c09K33dddDlRmd9Q\n"
     ]
    }
   ],
   "source": [
    "import tweepy\n",
    "import webbrowser\n",
    "import time\n",
    "#Authentication script\n",
    "consumer_key = \"\"\n",
    "consumer_secret = \"\"\n",
    "callback_uri = 'oob'\n",
    "auth = tweepy.OAuthHandler(consumer_key, consumer_secret, callback_uri)\n",
    "redirect_url = auth.get_authorization_url()\n",
    "print(redirect_url)\n",
    "webbrowser.open(redirect_url)\n",
    "user_pint_input = input(\"What is the pin value? \") #User pin input\n",
    "auth.get_access_token(user_pint_input)\n",
    "print(auth.access_token, auth.access_token_secret) \n",
    "api = tweepy.API(auth)\n"
   ]
  },
  {
   "cell_type": "code",
   "execution_count": 2,
   "metadata": {},
   "outputs": [],
   "source": [
    "user = api.get_user(screen_name=\"UFC\")"
   ]
  },
  {
   "cell_type": "code",
   "execution_count": 4,
   "metadata": {},
   "outputs": [
    {
     "name": "stdout",
     "output_type": "stream",
     "text": [
      "10388418 665\n"
     ]
    }
   ],
   "source": [
    "print(user.followers_count, user.friends_count)"
   ]
  },
  {
   "cell_type": "code",
   "execution_count": 11,
   "metadata": {},
   "outputs": [
    {
     "ename": "Unauthorized",
     "evalue": "401 Unauthorized\nRead-only application cannot POST.",
     "output_type": "error",
     "traceback": [
      "\u001b[1;31m---------------------------------------------------------------------------\u001b[0m",
      "\u001b[1;31mUnauthorized\u001b[0m                              Traceback (most recent call last)",
      "Cell \u001b[1;32mIn [11], line 7\u001b[0m\n\u001b[0;32m      4\u001b[0m \u001b[39mif\u001b[39;00m friend\u001b[39m.\u001b[39mfollowers_count \u001b[39m>\u001b[39m \u001b[39m300\u001b[39m \u001b[39mand\u001b[39;00m friend\u001b[39m.\u001b[39mfriends_count \u001b[39m<\u001b[39m \u001b[39m300\u001b[39m:\n\u001b[0;32m      5\u001b[0m     \u001b[39m#print(friend.screen_name)\u001b[39;00m\n\u001b[0;32m      6\u001b[0m     my_new_friends\u001b[39m.\u001b[39mappend(friend\u001b[39m.\u001b[39mscreen_name)\n\u001b[1;32m----> 7\u001b[0m     relationship_ \u001b[39m=\u001b[39m api\u001b[39m.\u001b[39;49mcreate_friendship(screen_name\u001b[39m=\u001b[39;49mfriend\u001b[39m.\u001b[39;49mscreen_name)\n",
      "File \u001b[1;32mc:\\Users\\Roman Velez Alicea\\Desktop\\BU Semester 1\\ECE601\\Project 2 Twitter API\\.venv\\lib\\site-packages\\tweepy\\api.py:46\u001b[0m, in \u001b[0;36mpayload.<locals>.decorator.<locals>.wrapper\u001b[1;34m(*args, **kwargs)\u001b[0m\n\u001b[0;32m     44\u001b[0m kwargs[\u001b[39m'\u001b[39m\u001b[39mpayload_list\u001b[39m\u001b[39m'\u001b[39m] \u001b[39m=\u001b[39m payload_list\n\u001b[0;32m     45\u001b[0m kwargs[\u001b[39m'\u001b[39m\u001b[39mpayload_type\u001b[39m\u001b[39m'\u001b[39m] \u001b[39m=\u001b[39m payload_type\n\u001b[1;32m---> 46\u001b[0m \u001b[39mreturn\u001b[39;00m method(\u001b[39m*\u001b[39margs, \u001b[39m*\u001b[39m\u001b[39m*\u001b[39mkwargs)\n",
      "File \u001b[1;32mc:\\Users\\Roman Velez Alicea\\Desktop\\BU Semester 1\\ECE601\\Project 2 Twitter API\\.venv\\lib\\site-packages\\tweepy\\api.py:2532\u001b[0m, in \u001b[0;36mAPI.create_friendship\u001b[1;34m(self, **kwargs)\u001b[0m\n\u001b[0;32m   2508\u001b[0m \u001b[39m@payload\u001b[39m(\u001b[39m'\u001b[39m\u001b[39muser\u001b[39m\u001b[39m'\u001b[39m)\n\u001b[0;32m   2509\u001b[0m \u001b[39mdef\u001b[39;00m \u001b[39mcreate_friendship\u001b[39m(\u001b[39mself\u001b[39m, \u001b[39m*\u001b[39m\u001b[39m*\u001b[39mkwargs):\n\u001b[0;32m   2510\u001b[0m     \u001b[39m\"\"\"create_friendship(*, screen_name, user_id, follow)\u001b[39;00m\n\u001b[0;32m   2511\u001b[0m \n\u001b[0;32m   2512\u001b[0m \u001b[39m    Create a new friendship with the specified user (aka follow).\u001b[39;00m\n\u001b[1;32m   (...)\u001b[0m\n\u001b[0;32m   2530\u001b[0m \u001b[39m    https://developer.twitter.com/en/docs/twitter-api/v1/accounts-and-users/follow-search-get-users/api-reference/post-friendships-create\u001b[39;00m\n\u001b[0;32m   2531\u001b[0m \u001b[39m    \"\"\"\u001b[39;00m\n\u001b[1;32m-> 2532\u001b[0m     \u001b[39mreturn\u001b[39;00m \u001b[39mself\u001b[39m\u001b[39m.\u001b[39mrequest(\n\u001b[0;32m   2533\u001b[0m         \u001b[39m'\u001b[39m\u001b[39mPOST\u001b[39m\u001b[39m'\u001b[39m, \u001b[39m'\u001b[39m\u001b[39mfriendships/create\u001b[39m\u001b[39m'\u001b[39m, endpoint_parameters\u001b[39m=\u001b[39m(\n\u001b[0;32m   2534\u001b[0m             \u001b[39m'\u001b[39m\u001b[39mscreen_name\u001b[39m\u001b[39m'\u001b[39m, \u001b[39m'\u001b[39m\u001b[39muser_id\u001b[39m\u001b[39m'\u001b[39m, \u001b[39m'\u001b[39m\u001b[39mfollow\u001b[39m\u001b[39m'\u001b[39m\n\u001b[0;32m   2535\u001b[0m         ), \u001b[39m*\u001b[39m\u001b[39m*\u001b[39mkwargs\n\u001b[0;32m   2536\u001b[0m     )\n",
      "File \u001b[1;32mc:\\Users\\Roman Velez Alicea\\Desktop\\BU Semester 1\\ECE601\\Project 2 Twitter API\\.venv\\lib\\site-packages\\tweepy\\api.py:257\u001b[0m, in \u001b[0;36mAPI.request\u001b[1;34m(self, method, endpoint, endpoint_parameters, params, headers, json_payload, parser, payload_list, payload_type, post_data, files, require_auth, return_cursors, upload_api, use_cache, **kwargs)\u001b[0m\n\u001b[0;32m    255\u001b[0m     \u001b[39mraise\u001b[39;00m BadRequest(resp)\n\u001b[0;32m    256\u001b[0m \u001b[39mif\u001b[39;00m resp\u001b[39m.\u001b[39mstatus_code \u001b[39m==\u001b[39m \u001b[39m401\u001b[39m:\n\u001b[1;32m--> 257\u001b[0m     \u001b[39mraise\u001b[39;00m Unauthorized(resp)\n\u001b[0;32m    258\u001b[0m \u001b[39mif\u001b[39;00m resp\u001b[39m.\u001b[39mstatus_code \u001b[39m==\u001b[39m \u001b[39m403\u001b[39m:\n\u001b[0;32m    259\u001b[0m     \u001b[39mraise\u001b[39;00m Forbidden(resp)\n",
      "\u001b[1;31mUnauthorized\u001b[0m: 401 Unauthorized\nRead-only application cannot POST."
     ]
    }
   ],
   "source": [
    "my_new_friends = [ ]\n",
    "user_friends = user.friends()\n",
    "for friend in user_friends:\n",
    "    if friend.followers_count > 200 and friend.friends_count < 200:\n",
    "        #print(friend.screen_name)\n",
    "        my_new_friends.append(friend.screen_name)\n",
    "        relationship_ = api.create_friendship(screen_name=friend.screen_name)\n",
    "#This is not possible with current access level - but in theory would be. "
   ]
  }
 ],
 "metadata": {
  "kernelspec": {
   "display_name": "Python 3.10.7 ('.venv': venv)",
   "language": "python",
   "name": "python3"
  },
  "language_info": {
   "codemirror_mode": {
    "name": "ipython",
    "version": 3
   },
   "file_extension": ".py",
   "mimetype": "text/x-python",
   "name": "python",
   "nbconvert_exporter": "python",
   "pygments_lexer": "ipython3",
   "version": "3.10.7"
  },
  "orig_nbformat": 4,
  "vscode": {
   "interpreter": {
    "hash": "c71a03fa8c701e70cdae240115e262310a537672549b2594a488e0a7a53c3ef1"
   }
  }
 },
 "nbformat": 4,
 "nbformat_minor": 2
}
