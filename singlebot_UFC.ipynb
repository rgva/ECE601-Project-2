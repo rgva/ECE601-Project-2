{
 "cells": [
  {
   "cell_type": "code",
   "execution_count": null,
   "metadata": {},
   "outputs": [],
   "source": [
    "import botometer\n",
    "import tweepy\n",
    "import webbrowser\n",
    "#Authentication script\n",
    "consumer_key = \"\"\n",
    "consumer_secret = \"\"\n",
    "callback_uri = 'oob'\n",
    "auth = tweepy.OAuthHandler(consumer_key, consumer_secret, callback_uri)\n",
    "redirect_url = auth.get_authorization_url()\n",
    "print(redirect_url)\n",
    "webbrowser.open(redirect_url)\n",
    "user_pint_input = input(\"What is the pin value? \") #User pin input\n",
    "auth.get_access_token(user_pint_input)\n",
    "print(auth.access_token, auth.access_token_secret) \n",
    "api = tweepy.API(auth)"
   ]
  },
  {
   "cell_type": "code",
   "execution_count": null,
   "metadata": {},
   "outputs": [],
   "source": [
    "from ssl import VerifyFlags\n",
    "\n",
    "rapidapi_key = \"\"\n",
    "twitter_app_auth = {\n",
    "    'consumer_key': '',\n",
    "    'consumer_secret': '',\n",
    "    'access_token': '',\n",
    "    'access_token_secret': '',\n",
    "  }\n",
    "bom = botometer.Botometer(wait_on_ratelimit=True,\n",
    "                          rapidapi_key=rapidapi_key,\n",
    "                          **twitter_app_auth)"
   ]
  },
  {
   "cell_type": "code",
   "execution_count": null,
   "metadata": {},
   "outputs": [],
   "source": [
    "# Function for searching if single account is a bot\n",
    "name = '@UFC'\n",
    "def check_bot(name):\n",
    "    verify = bom.check_account('name')\n",
    "    return verify\n",
    "print(check_bot(name))"
   ]
  }
 ],
 "metadata": {
  "kernelspec": {
   "display_name": "Python 3.10.7 ('.venv': venv)",
   "language": "python",
   "name": "python3"
  },
  "language_info": {
   "codemirror_mode": {
    "name": "ipython",
    "version": 3
   },
   "file_extension": ".py",
   "mimetype": "text/x-python",
   "name": "python",
   "nbconvert_exporter": "python",
   "pygments_lexer": "ipython3",
   "version": "3.10.7"
  },
  "orig_nbformat": 4,
  "vscode": {
   "interpreter": {
    "hash": "c71a03fa8c701e70cdae240115e262310a537672549b2594a488e0a7a53c3ef1"
   }
  }
 },
 "nbformat": 4,
 "nbformat_minor": 2
}
