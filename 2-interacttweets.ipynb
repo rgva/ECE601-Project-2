{
 "cells": [
  {
   "cell_type": "code",
   "execution_count": 3,
   "metadata": {},
   "outputs": [
    {
     "name": "stdout",
     "output_type": "stream",
     "text": [
      "https://api.twitter.com/oauth/authorize?oauth_token=4GzojgAAAAABh_cbAAABg8IOTSQ\n",
      "1578938889980592128-IDytxONaDyRGcd3A7aablBpA3ZRM6r ycvwdMEIfE6P8plFdPpk934VNasb5c09K33dddDlRmd9Q\n"
     ]
    }
   ],
   "source": [
    "import tweepy\n",
    "import webbrowser\n",
    "import time\n",
    "#Authentication script\n",
    "consumer_key = \"\"\n",
    "consumer_secret = \"\"\n",
    "callback_uri = 'oob'\n",
    "auth = tweepy.OAuthHandler(consumer_key, consumer_secret, callback_uri)\n",
    "redirect_url = auth.get_authorization_url()\n",
    "print(redirect_url)\n",
    "webbrowser.open(redirect_url)\n",
    "user_pint_input = input(\"What is the pin value? \") #User pin input\n",
    "auth.get_access_token(user_pint_input)\n",
    "print(auth.access_token, auth.access_token_secret) \n",
    "api = tweepy.API(auth)\n"
   ]
  },
  {
   "cell_type": "code",
   "execution_count": 12,
   "metadata": {},
   "outputs": [
    {
     "name": "stdout",
     "output_type": "stream",
     "text": [
      "https://twitter.com/ufc/status/1579341439619985409\n"
     ]
    }
   ],
   "source": [
    "user = api.get_user(screen_name=\"UFC\")\n",
    "user_timeline = user.timeline()\n",
    "user_timeline_status_obj = user_timeline[0]\n",
    "status_obj_id = user_timeline_status_obj.id\n",
    "status_obj_screen_name = user_timeline_status_obj.user.screen_name\n",
    "status_obj_url = f\"https://twitter.com/{status_obj_screen_name}/status/{status_obj_id}\"\n",
    "print(status_obj_url)\n"
   ]
  },
  {
   "cell_type": "code",
   "execution_count": 10,
   "metadata": {},
   "outputs": [
    {
     "data": {
      "text/plain": [
       "'Who leaves Abu Dhabi as lightweight champion - @CharlesDoBronxs or @MakhachevMMA? 🏆\\n\\n[ #UFC280 Countdown airs Octob… https://t.co/DN8JaqFTlk'"
      ]
     },
     "execution_count": 10,
     "metadata": {},
     "output_type": "execute_result"
    }
   ],
   "source": [
    "status_obj = api.get_status(\"1579341439619985409\")\n",
    "status_obj.text"
   ]
  }
 ],
 "metadata": {
  "kernelspec": {
   "display_name": "Python 3.10.7 ('.venv': venv)",
   "language": "python",
   "name": "python3"
  },
  "language_info": {
   "codemirror_mode": {
    "name": "ipython",
    "version": 3
   },
   "file_extension": ".py",
   "mimetype": "text/x-python",
   "name": "python",
   "nbconvert_exporter": "python",
   "pygments_lexer": "ipython3",
   "version": "3.10.7"
  },
  "orig_nbformat": 4,
  "vscode": {
   "interpreter": {
    "hash": "c71a03fa8c701e70cdae240115e262310a537672549b2594a488e0a7a53c3ef1"
   }
  }
 },
 "nbformat": 4,
 "nbformat_minor": 2
}
