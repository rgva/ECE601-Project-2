{
 "cells": [
  {
   "cell_type": "code",
   "execution_count": null,
   "metadata": {},
   "outputs": [],
   "source": [
    "# Analyze Sentiment Function provided by Google Cloud documentation \n",
    "from google.cloud import language\n",
    "\n",
    "\n",
    "def analyze_text_sentiment(text):\n",
    "    client = language.LanguageServiceClient()\n",
    "    document = language.Document(content=text, type_=language.Document.Type.PLAIN_TEXT)\n",
    "\n",
    "    response = client.analyze_sentiment(document=document)\n",
    "\n",
    "    sentiment = response.document_sentiment\n",
    "    results = dict(\n",
    "        text=text,\n",
    "        score=f\"{sentiment.score:.1%}\",\n",
    "        magnitude=f\"{sentiment.magnitude:.1%}\",\n",
    "    )\n",
    "    for k, v in results.items():\n",
    "        print(f\"{k:10}: {v}\")"
   ]
  },
  {
   "cell_type": "code",
   "execution_count": null,
   "metadata": {},
   "outputs": [],
   "source": [
    "text = \"Alexa Grasso is a terrible fighter!\"\n",
    "analyze_text_sentiment(text)\n",
    "\n",
    "#Output: (as seen on Google Cloud)\n",
    "# text: Alexa Grasso is a terrible fighter!\n",
    "# score: -70.0%\n",
    "# magnitude: 70.0%"
   ]
  },
  {
   "cell_type": "code",
   "execution_count": null,
   "metadata": {},
   "outputs": [],
   "source": [
    "text = \"Viviane Araujo is a great fighter!\"\n",
    "analyze_text_sentiment(text)\n",
    "\n",
    "#Output: (as seen on Google Cloud)\n",
    "# text: Viviane Araujo is a great fighter!\n",
    "# score: 90.0%\n",
    "# magnitude: 90.0%"
   ]
  }
 ],
 "metadata": {
  "kernelspec": {
   "display_name": "Python 3.10.7 ('.venv': venv)",
   "language": "python",
   "name": "python3"
  },
  "language_info": {
   "codemirror_mode": {
    "name": "ipython",
    "version": 3
   },
   "file_extension": ".py",
   "mimetype": "text/x-python",
   "name": "python",
   "nbconvert_exporter": "python",
   "pygments_lexer": "ipython3",
   "version": "3.10.7"
  },
  "orig_nbformat": 4,
  "vscode": {
   "interpreter": {
    "hash": "c71a03fa8c701e70cdae240115e262310a537672549b2594a488e0a7a53c3ef1"
   }
  }
 },
 "nbformat": 4,
 "nbformat_minor": 2
}
